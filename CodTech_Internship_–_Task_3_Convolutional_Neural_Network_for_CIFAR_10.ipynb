{
  "nbformat": 4,
  "nbformat_minor": 0,
  "metadata": {
    "colab": {
      "provenance": [],
      "authorship_tag": "ABX9TyMCcJAVvsuaxk3kaNKP+Ug/",
      "include_colab_link": true
    },
    "kernelspec": {
      "name": "python3",
      "display_name": "Python 3"
    },
    "language_info": {
      "name": "python"
    }
  },
  "cells": [
    {
      "cell_type": "markdown",
      "metadata": {
        "id": "view-in-github",
        "colab_type": "text"
      },
      "source": [
        "<a href=\"https://colab.research.google.com/github/J878-commits/-Task-1-Text-Summarization-with-Transformers-Gradio-/blob/main/CodTech_Internship_%E2%80%93_Task_3_Convolutional_Neural_Network_for_CIFAR_10.ipynb\" target=\"_parent\"><img src=\"https://colab.research.google.com/assets/colab-badge.svg\" alt=\"Open In Colab\"/></a>"
      ]
    },
    {
      "cell_type": "markdown",
      "source": [
        "🧠 Project Overview: CNN for Image Classification\n",
        "\n",
        "🎯 Goal\n",
        "Build and evaluate a CNN that can classify images into categories (e.g., animals, objects, digits, etc.) using a standard dataset like CIFAR-10, MNIST, or a custom dataset if specified.\n",
        "\n",
        "🛠️ Step-by-Step Workflow\n",
        "1. Setup & Imports\n",
        "Use TensorFlow (recommended for smoother deployment and integration with your existing work)."
      ],
      "metadata": {
        "id": "VqN4dXWjkeNS"
      }
    },
    {
      "cell_type": "code",
      "execution_count": 1,
      "metadata": {
        "id": "s6lQw9M0kdBZ"
      },
      "outputs": [],
      "source": [
        "import tensorflow as tf\n",
        "from tensorflow.keras import layers, models\n",
        "import matplotlib.pyplot as plt\n"
      ]
    },
    {
      "cell_type": "markdown",
      "source": [
        "2. Load Dataset\n",
        "Use CIFAR-10 for a balanced, colorful image dataset with 10 classes."
      ],
      "metadata": {
        "id": "AYfHO1UAkvwt"
      }
    },
    {
      "cell_type": "code",
      "source": [
        "(x_train, y_train), (x_test, y_test) = tf.keras.datasets.cifar10.load_data()\n",
        "x_train, x_test = x_train / 255.0, x_test / 255.0  # Normalize\n"
      ],
      "metadata": {
        "colab": {
          "base_uri": "https://localhost:8080/"
        },
        "id": "sZlMXoBOkxRM",
        "outputId": "6b80ef14-edcc-4fe6-a663-3339d482ca1c"
      },
      "execution_count": 2,
      "outputs": [
        {
          "output_type": "stream",
          "name": "stdout",
          "text": [
            "Downloading data from https://www.cs.toronto.edu/~kriz/cifar-10-python.tar.gz\n",
            "\u001b[1m170498071/170498071\u001b[0m \u001b[32m━━━━━━━━━━━━━━━━━━━━\u001b[0m\u001b[37m\u001b[0m \u001b[1m2s\u001b[0m 0us/step\n"
          ]
        }
      ]
    },
    {
      "cell_type": "markdown",
      "source": [
        "3. Build the CNN Model"
      ],
      "metadata": {
        "id": "5ObpsHRdk4mE"
      }
    },
    {
      "cell_type": "code",
      "source": [
        "model = models.Sequential([\n",
        "    layers.Conv2D(32, (3, 3), activation='relu', input_shape=(32, 32, 3)),\n",
        "    layers.MaxPooling2D((2, 2)),\n",
        "    layers.Conv2D(64, (3, 3), activation='relu'),\n",
        "    layers.MaxPooling2D((2, 2)),\n",
        "    layers.Conv2D(64, (3, 3), activation='relu'),\n",
        "    layers.Flatten(),\n",
        "    layers.Dense(64, activation='relu'),\n",
        "    layers.Dense(10, activation='softmax')\n",
        "])\n"
      ],
      "metadata": {
        "colab": {
          "base_uri": "https://localhost:8080/"
        },
        "id": "JqczRL51k5RG",
        "outputId": "b226109a-c192-466d-8a44-f33f64e44e53"
      },
      "execution_count": 3,
      "outputs": [
        {
          "output_type": "stream",
          "name": "stderr",
          "text": [
            "/usr/local/lib/python3.11/dist-packages/keras/src/layers/convolutional/base_conv.py:113: UserWarning: Do not pass an `input_shape`/`input_dim` argument to a layer. When using Sequential models, prefer using an `Input(shape)` object as the first layer in the model instead.\n",
            "  super().__init__(activity_regularizer=activity_regularizer, **kwargs)\n"
          ]
        }
      ]
    },
    {
      "cell_type": "markdown",
      "source": [
        "4. Compile & Train"
      ],
      "metadata": {
        "id": "W0PoS12XlBAT"
      }
    },
    {
      "cell_type": "code",
      "source": [
        "model.compile(optimizer='adam',\n",
        "              loss='sparse_categorical_crossentropy',\n",
        "              metrics=['accuracy'])\n",
        "\n",
        "history = model.fit(x_train, y_train, epochs=5,\n",
        "                    validation_data=(x_test, y_test))\n"
      ],
      "metadata": {
        "colab": {
          "base_uri": "https://localhost:8080/"
        },
        "id": "N7y7umvylAlx",
        "outputId": "af2f06c7-c801-4c84-e2e9-794a982ef1f3"
      },
      "execution_count": 5,
      "outputs": [
        {
          "output_type": "stream",
          "name": "stdout",
          "text": [
            "Epoch 1/5\n",
            "\u001b[1m1563/1563\u001b[0m \u001b[32m━━━━━━━━━━━━━━━━━━━━\u001b[0m\u001b[37m\u001b[0m \u001b[1m71s\u001b[0m 44ms/step - accuracy: 0.6721 - loss: 0.9227 - val_accuracy: 0.6564 - val_loss: 0.9781\n",
            "Epoch 2/5\n",
            "\u001b[1m1563/1563\u001b[0m \u001b[32m━━━━━━━━━━━━━━━━━━━━\u001b[0m\u001b[37m\u001b[0m \u001b[1m81s\u001b[0m 43ms/step - accuracy: 0.6995 - loss: 0.8517 - val_accuracy: 0.6827 - val_loss: 0.9169\n",
            "Epoch 3/5\n",
            "\u001b[1m1563/1563\u001b[0m \u001b[32m━━━━━━━━━━━━━━━━━━━━\u001b[0m\u001b[37m\u001b[0m \u001b[1m83s\u001b[0m 44ms/step - accuracy: 0.7169 - loss: 0.8061 - val_accuracy: 0.6938 - val_loss: 0.8975\n",
            "Epoch 4/5\n",
            "\u001b[1m1563/1563\u001b[0m \u001b[32m━━━━━━━━━━━━━━━━━━━━\u001b[0m\u001b[37m\u001b[0m \u001b[1m82s\u001b[0m 44ms/step - accuracy: 0.7293 - loss: 0.7614 - val_accuracy: 0.6778 - val_loss: 0.9520\n",
            "Epoch 5/5\n",
            "\u001b[1m1563/1563\u001b[0m \u001b[32m━━━━━━━━━━━━━━━━━━━━\u001b[0m\u001b[37m\u001b[0m \u001b[1m82s\u001b[0m 44ms/step - accuracy: 0.7504 - loss: 0.7130 - val_accuracy: 0.6966 - val_loss: 0.8849\n"
          ]
        }
      ]
    },
    {
      "cell_type": "markdown",
      "source": [
        "5. Evaluate Performance"
      ],
      "metadata": {
        "id": "6P6cpi7tnsYZ"
      }
    },
    {
      "cell_type": "code",
      "source": [
        "test_loss, test_acc = model.evaluate(x_test, y_test)\n",
        "print(f\"Test Accuracy: {test_acc:.2f}\")\n"
      ],
      "metadata": {
        "colab": {
          "base_uri": "https://localhost:8080/"
        },
        "id": "Uvbmdbwnnu7t",
        "outputId": "ae36d163-a1d6-4302-cd93-fff8efb6f904"
      },
      "execution_count": 6,
      "outputs": [
        {
          "output_type": "stream",
          "name": "stdout",
          "text": [
            "\u001b[1m313/313\u001b[0m \u001b[32m━━━━━━━━━━━━━━━━━━━━\u001b[0m\u001b[37m\u001b[0m \u001b[1m4s\u001b[0m 12ms/step - accuracy: 0.6993 - loss: 0.8800\n",
            "Test Accuracy: 0.70\n"
          ]
        }
      ]
    },
    {
      "cell_type": "markdown",
      "source": [
        "Based on the notebook, the task is to build and evaluate a CNN for image classification using the CIFAR-10 dataset. The model was trained for 5 epochs and achieved a test accuracy of approximately 70%."
      ],
      "metadata": {
        "id": "eJ81cqLppDNW"
      }
    },
    {
      "cell_type": "markdown",
      "source": [
        "✅ Task 3 Summary: CNN for Image Classification\n",
        "\n",
        "Objective: Build and evaluate a Convolutional Neural Network (CNN) for image classification using the CIFAR-10 dataset, as part of the CodTech internship deliverables.\n",
        "\n",
        "Approach:\n",
        "\n",
        "Framework: TensorFlow\n",
        "\n",
        "Dataset: CIFAR-10 (60,000 32×32 color images in 10 classes)\n",
        "\n",
        "Model: Custom CNN architecture with Conv2D, MaxPooling, Flatten, Dense layers\n",
        "\n",
        "Training: 5 epochs\n",
        "\n",
        "Evaluation: model.evaluate(x_test, y_test)\n",
        "\n",
        "Results:\n",
        "\n",
        "Test Accuracy: ~70%\n",
        "\n",
        "Test Loss: ~0.88\n",
        "\n",
        "Model successfully classifies images across 10 categories with reasonable accuracy, meeting the internship’s functional and evaluation criteria.\n",
        "\n",
        "Status: ✅ Task 3 Completed — Ready for certificate issuance upon internship end date."
      ],
      "metadata": {
        "id": "IjDlpVWlpLcp"
      }
    }
  ]
}