{
  "nbformat": 4,
  "nbformat_minor": 0,
  "metadata": {
    "colab": {
      "provenance": [],
      "authorship_tag": "ABX9TyOUTZTkjUgitZxb8RmuDg5l",
      "include_colab_link": true
    },
    "kernelspec": {
      "name": "python3",
      "display_name": "Python 3"
    },
    "language_info": {
      "name": "python"
    }
  },
  "cells": [
    {
      "cell_type": "markdown",
      "metadata": {
        "id": "view-in-github",
        "colab_type": "text"
      },
      "source": [
        "<a href=\"https://colab.research.google.com/github/J878-commits/-Task-1-Text-Summarization-with-Transformers-Gradio-/blob/main/Task_3_%E2%80%93_Kubernetes_Microservices_Deployment.ipynb\" target=\"_parent\"><img src=\"https://colab.research.google.com/assets/colab-badge.svg\" alt=\"Open In Colab\"/></a>"
      ]
    },
    {
      "cell_type": "markdown",
      "source": [
        "Task 3 is all about deploying a microservices-based application on a Kubernetes cluster, and we’ll simulate it step-by-step in a scrollable, teachable Colab notebook with YAML configs and clear documentation. You’ll walk away with:\n",
        "\n",
        "✅ Deployment-ready YAML files\n",
        "\n",
        "✅ Modular microservices layout\n",
        "\n",
        "✅ CodTech-branded documentation\n",
        "\n",
        "✅ Certificate-ready deliverable\n",
        "\n",
        "🧱 Task 3 Breakdown: Kubernetes Deployment of Microservices\n",
        "We’ll simulate a basic microservices app with:\n",
        "\n",
        "Frontend service (e.g., React or static HTML)\n",
        "\n",
        "Backend API (e.g., Flask or Node.js)\n",
        "\n",
        "Database service (e.g., MongoDB or PostgreSQL)\n",
        "\n",
        "Each service will have its own:\n",
        "\n",
        "Deployment YAML\n",
        "\n",
        "Service YAML"
      ],
      "metadata": {
        "id": "graAtcaqT5Es"
      }
    },
    {
      "cell_type": "markdown",
      "source": [
        "🧩 Step 1: Define Microservices Architecture"
      ],
      "metadata": {
        "id": "Z26jDf8XULos"
      }
    },
    {
      "cell_type": "markdown",
      "source": [
        "## 🧩 Microservices Architecture\n",
        "\n",
        "- `frontend`: Serves UI to users  \n",
        "- `backend`: Handles API requests  \n",
        "- `database`: Stores persistent data  \n",
        "\n",
        "Each component is containerized and deployed as a separate pod in the cluster.\n",
        "📦 Step 2: YAML Configuration Files\n",
        "1️⃣ Frontend Deployment + Service"
      ],
      "metadata": {
        "id": "YSOq5BXxUNro"
      }
    },
    {
      "cell_type": "code",
      "source": [
        "frontend_yaml = \"\"\"\n",
        "apiVersion: apps/v1\n",
        "kind: Deployment\n",
        "metadata:\n",
        "  name: frontend\n",
        "spec:\n",
        "  replicas: 2\n",
        "  selector:\n",
        "    matchLabels:\n",
        "      app: frontend\n",
        "  template:\n",
        "    metadata:\n",
        "      labels:\n",
        "        app: frontend\n",
        "    spec:\n",
        "      containers:\n",
        "      - name: frontend\n",
        "        image: your-dockerhub-username/frontend:latest\n",
        "        ports:\n",
        "        - containerPort: 80\n",
        "\"\"\"\n",
        "\n",
        "print(frontend_yaml)\n"
      ],
      "metadata": {
        "colab": {
          "base_uri": "https://localhost:8080/"
        },
        "id": "J4dmvgP5Umig",
        "outputId": "b2a50ce7-e25d-4257-abc8-77afba99f474"
      },
      "execution_count": 2,
      "outputs": [
        {
          "output_type": "stream",
          "name": "stdout",
          "text": [
            "\n",
            "apiVersion: apps/v1\n",
            "kind: Deployment\n",
            "metadata:\n",
            "  name: frontend\n",
            "spec:\n",
            "  replicas: 2\n",
            "  selector:\n",
            "    matchLabels:\n",
            "      app: frontend\n",
            "  template:\n",
            "    metadata:\n",
            "      labels:\n",
            "        app: frontend\n",
            "    spec:\n",
            "      containers:\n",
            "      - name: frontend\n",
            "        image: your-dockerhub-username/frontend:latest\n",
            "        ports:\n",
            "        - containerPort: 80\n",
            "\n"
          ]
        }
      ]
    },
    {
      "cell_type": "markdown",
      "source": [
        "✅ 2. Frontend Service YAML"
      ],
      "metadata": {
        "id": "Jxnf-U8JVFzB"
      }
    },
    {
      "cell_type": "code",
      "source": [
        "frontend_service_yaml = \"\"\"\n",
        "apiVersion: v1\n",
        "kind: Service\n",
        "metadata:\n",
        "  name: frontend-service\n",
        "spec:\n",
        "  selector:\n",
        "    app: frontend\n",
        "  ports:\n",
        "  - protocol: TCP\n",
        "    port: 80\n",
        "    targetPort: 80\n",
        "  type: LoadBalancer\n",
        "\"\"\"\n",
        "print(frontend_service_yaml)\n"
      ],
      "metadata": {
        "colab": {
          "base_uri": "https://localhost:8080/"
        },
        "id": "kL-6wufDVIgY",
        "outputId": "fad8c0ac-a0d0-4f3a-e468-4ee8f3f124fd"
      },
      "execution_count": 4,
      "outputs": [
        {
          "output_type": "stream",
          "name": "stdout",
          "text": [
            "\n",
            "apiVersion: v1\n",
            "kind: Service\n",
            "metadata:\n",
            "  name: frontend-service\n",
            "spec:\n",
            "  selector:\n",
            "    app: frontend\n",
            "  ports:\n",
            "  - protocol: TCP\n",
            "    port: 80\n",
            "    targetPort: 80\n",
            "  type: LoadBalancer\n",
            "\n"
          ]
        }
      ]
    },
    {
      "cell_type": "markdown",
      "source": [
        "✅ 3. Backend Deployment YAML"
      ],
      "metadata": {
        "id": "juMj7W-CVNpU"
      }
    },
    {
      "cell_type": "code",
      "source": [
        "backend_deployment_yaml = \"\"\"\n",
        "apiVersion: apps/v1\n",
        "kind: Deployment\n",
        "metadata:\n",
        "  name: backend\n",
        "spec:\n",
        "  replicas: 2\n",
        "  selector:\n",
        "    matchLabels:\n",
        "      app: backend\n",
        "  template:\n",
        "    metadata:\n",
        "      labels:\n",
        "        app: backend\n",
        "    spec:\n",
        "      containers:\n",
        "      - name: backend\n",
        "        image: your-dockerhub-username/backend:latest\n",
        "        ports:\n",
        "        - containerPort: 5000\n",
        "        env:\n",
        "        - name: DB_HOST\n",
        "          value: \"database-service\"\n",
        "\"\"\"\n",
        "print(backend_deployment_yaml)\n"
      ],
      "metadata": {
        "colab": {
          "base_uri": "https://localhost:8080/"
        },
        "id": "xK4B2cpCVQWS",
        "outputId": "4e345dea-bc8d-41cc-ec0b-7ca1099bf7c7"
      },
      "execution_count": 5,
      "outputs": [
        {
          "output_type": "stream",
          "name": "stdout",
          "text": [
            "\n",
            "apiVersion: apps/v1\n",
            "kind: Deployment\n",
            "metadata:\n",
            "  name: backend\n",
            "spec:\n",
            "  replicas: 2\n",
            "  selector:\n",
            "    matchLabels:\n",
            "      app: backend\n",
            "  template:\n",
            "    metadata:\n",
            "      labels:\n",
            "        app: backend\n",
            "    spec:\n",
            "      containers:\n",
            "      - name: backend\n",
            "        image: your-dockerhub-username/backend:latest\n",
            "        ports:\n",
            "        - containerPort: 5000\n",
            "        env:\n",
            "        - name: DB_HOST\n",
            "          value: \"database-service\"\n",
            "\n"
          ]
        }
      ]
    },
    {
      "cell_type": "markdown",
      "source": [
        "✅ 4. Backend Service YAML"
      ],
      "metadata": {
        "id": "gSih5kS1VVUk"
      }
    },
    {
      "cell_type": "code",
      "source": [
        "backend_service_yaml = \"\"\"\n",
        "apiVersion: v1\n",
        "kind: Service\n",
        "metadata:\n",
        "  name: backend-service\n",
        "spec:\n",
        "  selector:\n",
        "    app: backend\n",
        "  ports:\n",
        "  - protocol: TCP\n",
        "    port: 5000\n",
        "    targetPort: 5000\n",
        "  type: ClusterIP\n",
        "\"\"\"\n",
        "print(backend_service_yaml)\n"
      ],
      "metadata": {
        "colab": {
          "base_uri": "https://localhost:8080/"
        },
        "id": "mphI_lAwVXva",
        "outputId": "68e1f721-7c68-4906-9549-8caf41393644"
      },
      "execution_count": 6,
      "outputs": [
        {
          "output_type": "stream",
          "name": "stdout",
          "text": [
            "\n",
            "apiVersion: v1\n",
            "kind: Service\n",
            "metadata:\n",
            "  name: backend-service\n",
            "spec:\n",
            "  selector:\n",
            "    app: backend\n",
            "  ports:\n",
            "  - protocol: TCP\n",
            "    port: 5000\n",
            "    targetPort: 5000\n",
            "  type: ClusterIP\n",
            "\n"
          ]
        }
      ]
    },
    {
      "cell_type": "markdown",
      "source": [
        "✅ 5. Database Deployment YAML"
      ],
      "metadata": {
        "id": "KSwA-_FNVcuX"
      }
    },
    {
      "cell_type": "code",
      "source": [
        "database_deployment_yaml = \"\"\"\n",
        "apiVersion: apps/v1\n",
        "kind: Deployment\n",
        "metadata:\n",
        "  name: database\n",
        "spec:\n",
        "  replicas: 1\n",
        "  selector:\n",
        "    matchLabels:\n",
        "      app: database\n",
        "  template:\n",
        "    metadata:\n",
        "      labels:\n",
        "        app: database\n",
        "    spec:\n",
        "      containers:\n",
        "      - name: database\n",
        "        image: mongo:latest\n",
        "        ports:\n",
        "        - containerPort: 27017\n",
        "\"\"\"\n",
        "print(database_deployment_yaml)\n"
      ],
      "metadata": {
        "colab": {
          "base_uri": "https://localhost:8080/"
        },
        "id": "JfGGFAKUVfFL",
        "outputId": "28c2e456-c703-4201-8dcb-b241305dce20"
      },
      "execution_count": 7,
      "outputs": [
        {
          "output_type": "stream",
          "name": "stdout",
          "text": [
            "\n",
            "apiVersion: apps/v1\n",
            "kind: Deployment\n",
            "metadata:\n",
            "  name: database\n",
            "spec:\n",
            "  replicas: 1\n",
            "  selector:\n",
            "    matchLabels:\n",
            "      app: database\n",
            "  template:\n",
            "    metadata:\n",
            "      labels:\n",
            "        app: database\n",
            "    spec:\n",
            "      containers:\n",
            "      - name: database\n",
            "        image: mongo:latest\n",
            "        ports:\n",
            "        - containerPort: 27017\n",
            "\n"
          ]
        }
      ]
    },
    {
      "cell_type": "markdown",
      "source": [
        "✅ 6. Database Service YAML"
      ],
      "metadata": {
        "id": "SwAs2Ni4VkAd"
      }
    },
    {
      "cell_type": "code",
      "source": [
        "database_service_yaml = \"\"\"\n",
        "apiVersion: v1\n",
        "kind: Service\n",
        "metadata:\n",
        "  name: database-service\n",
        "spec:\n",
        "  selector:\n",
        "    app: database\n",
        "  ports:\n",
        "  - protocol: TCP\n",
        "    port: 27017\n",
        "    targetPort: 27017\n",
        "  type: ClusterIP\n",
        "\"\"\"\n",
        "print(database_service_yaml)\n"
      ],
      "metadata": {
        "colab": {
          "base_uri": "https://localhost:8080/"
        },
        "id": "QIo_RHSLVk5r",
        "outputId": "dab71660-dff9-41d2-e9c6-87738c9d422a"
      },
      "execution_count": 8,
      "outputs": [
        {
          "output_type": "stream",
          "name": "stdout",
          "text": [
            "\n",
            "apiVersion: v1\n",
            "kind: Service\n",
            "metadata:\n",
            "  name: database-service\n",
            "spec:\n",
            "  selector:\n",
            "    app: database\n",
            "  ports:\n",
            "  - protocol: TCP\n",
            "    port: 27017\n",
            "    targetPort: 27017\n",
            "  type: ClusterIP\n",
            "\n"
          ]
        }
      ]
    },
    {
      "cell_type": "markdown",
      "source": [
        "This notebook outlines the process of simulating the deployment of a microservices-based application on a Kubernetes cluster. It defines the architecture of the application, consisting of frontend, backend, and database services, and provides the necessary YAML configurations for their deployments and services.\n",
        "\n",
        "Insight: The notebook provides a clear, step-by-step guide to creating the foundational Kubernetes configuration files for a microservices application. It demonstrates the separation of concerns by defining individual deployments and services for each component, which is a key principle of microservices architecture. The use of LoadBalancer for the frontend and ClusterIP for the backend and database services reflects common patterns for exposing external and internal services within a cluster.\n",
        "\n",
        "Conclusion: The notebook successfully lays the groundwork for deploying a simple microservices application on Kubernetes by providing the essential YAML definitions. To make this simulation fully functional, the next steps would involve building the actual Docker images for the frontend and backend services (replacing your-dockerhub-username/...:latest with actual image names), applying these configurations to a Kubernetes cluster, and verifying the communication between the services. This notebook serves as an excellent starting point for understanding the basic Kubernetes objects required for microservices deployment."
      ],
      "metadata": {
        "id": "ajFJrNRSV83E"
      }
    },
    {
      "cell_type": "markdown",
      "source": [
        "🚀 Internship Task 3 Completed – Microservices Deployment on Kubernetes\n",
        "\n",
        "As part of my internship at **CodTech IT Solutions**, I created a scrollable, teachable notebook that simulates the deployment of a microservices-based application on a Kubernetes cluster.\n",
        "\n",
        "🔧 **Architecture Overview:**\n",
        "- `frontend`: UI service exposed via LoadBalancer\n",
        "- `backend`: API service connected to database\n",
        "- `database`: MongoDB service exposed internally via ClusterIP\n",
        "\n",
        "📦 **What’s Inside the Notebook:**\n",
        "- Step-by-step simulation of Kubernetes deployment logic\n",
        "- YAML configuration files for all services and deployments\n",
        "- Clear documentation of microservices separation and service exposure patterns\n",
        "\n",
        "📘 **Key Insights:**\n",
        "This notebook illustrates how Kubernetes enables modular, scalable deployment of microservices. It reflects best practices in service isolation, internal vs external routing, and declarative infrastructure setup.\n",
        "\n",
        "🎯 **Next Steps:**\n",
        "To make this simulation fully functional:\n",
        "- Build Docker images for frontend and backend\n",
        "- Replace placeholder image names in YAML\n",
        "- Apply configs to a live Kubernetes cluster\n",
        "- Verify inter-service communication\n",
        "\n",
        "✅ **CodTech Internship Deliverable**  \n",
        "✅ Certificate-ready  \n",
        "✅ Portfolio and demo-friendly\n",
        "\n",
        "🔗 Explore the notebook and YAML files here: [GitHub repo link]\n",
        "\n",
        "📌 #Kubernetes #Microservices #DevOps #CodTech #Internship #YAML #Deployment #CloudNative #JosyBuilds\n"
      ],
      "metadata": {
        "id": "sxnmtACsWGmq"
      }
    }
  ]
}