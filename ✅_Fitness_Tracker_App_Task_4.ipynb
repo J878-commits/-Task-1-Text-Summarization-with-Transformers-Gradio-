{
  "nbformat": 4,
  "nbformat_minor": 0,
  "metadata": {
    "colab": {
      "provenance": [],
      "authorship_tag": "ABX9TyNufKBJenMHZAwm0ov11d7p",
      "include_colab_link": true
    },
    "kernelspec": {
      "name": "python3",
      "display_name": "Python 3"
    },
    "language_info": {
      "name": "python"
    }
  },
  "cells": [
    {
      "cell_type": "markdown",
      "metadata": {
        "id": "view-in-github",
        "colab_type": "text"
      },
      "source": [
        "<a href=\"https://colab.research.google.com/github/J878-commits/-Task-1-Text-Summarization-with-Transformers-Gradio-/blob/main/%E2%9C%85_Fitness_Tracker_App_Task_4.ipynb\" target=\"_parent\"><img src=\"https://colab.research.google.com/assets/colab-badge.svg\" alt=\"Open In Colab\"/></a>"
      ]
    },
    {
      "cell_type": "markdown",
      "source": [
        "🧩 Colab Module: Fitness Tracker Simulation"
      ],
      "metadata": {
        "id": "fK2XQgL3qkl-"
      }
    },
    {
      "cell_type": "markdown",
      "source": [
        "🔹 Section 1: Simulated Sensor Data"
      ],
      "metadata": {
        "id": "vMIigLg0qrKd"
      }
    },
    {
      "cell_type": "code",
      "execution_count": 1,
      "metadata": {
        "colab": {
          "base_uri": "https://localhost:8080/",
          "height": 238
        },
        "id": "hqjX_tJIqjK1",
        "outputId": "5fb3f92d-68b9-44a5-a310-59373f9892f7"
      },
      "outputs": [
        {
          "output_type": "execute_result",
          "data": {
            "text/plain": [
              "                     minute  steps  distance_m  calories\n",
              "time                                                    \n",
              "1970-01-01 00:00:00       0      3         2.1      0.15\n",
              "1970-01-01 00:01:00       1      0         0.0      0.00\n",
              "1970-01-01 00:02:00       2      0         0.0      0.00\n",
              "1970-01-01 00:03:00       3      0         0.0      0.00\n",
              "1970-01-01 00:04:00       4      3         2.1      0.15"
            ],
            "text/html": [
              "\n",
              "  <div id=\"df-490e2153-b9f4-48cc-ab7d-9d3b65be69ef\" class=\"colab-df-container\">\n",
              "    <div>\n",
              "<style scoped>\n",
              "    .dataframe tbody tr th:only-of-type {\n",
              "        vertical-align: middle;\n",
              "    }\n",
              "\n",
              "    .dataframe tbody tr th {\n",
              "        vertical-align: top;\n",
              "    }\n",
              "\n",
              "    .dataframe thead th {\n",
              "        text-align: right;\n",
              "    }\n",
              "</style>\n",
              "<table border=\"1\" class=\"dataframe\">\n",
              "  <thead>\n",
              "    <tr style=\"text-align: right;\">\n",
              "      <th></th>\n",
              "      <th>minute</th>\n",
              "      <th>steps</th>\n",
              "      <th>distance_m</th>\n",
              "      <th>calories</th>\n",
              "    </tr>\n",
              "    <tr>\n",
              "      <th>time</th>\n",
              "      <th></th>\n",
              "      <th></th>\n",
              "      <th></th>\n",
              "      <th></th>\n",
              "    </tr>\n",
              "  </thead>\n",
              "  <tbody>\n",
              "    <tr>\n",
              "      <th>1970-01-01 00:00:00</th>\n",
              "      <td>0</td>\n",
              "      <td>3</td>\n",
              "      <td>2.1</td>\n",
              "      <td>0.15</td>\n",
              "    </tr>\n",
              "    <tr>\n",
              "      <th>1970-01-01 00:01:00</th>\n",
              "      <td>1</td>\n",
              "      <td>0</td>\n",
              "      <td>0.0</td>\n",
              "      <td>0.00</td>\n",
              "    </tr>\n",
              "    <tr>\n",
              "      <th>1970-01-01 00:02:00</th>\n",
              "      <td>2</td>\n",
              "      <td>0</td>\n",
              "      <td>0.0</td>\n",
              "      <td>0.00</td>\n",
              "    </tr>\n",
              "    <tr>\n",
              "      <th>1970-01-01 00:03:00</th>\n",
              "      <td>3</td>\n",
              "      <td>0</td>\n",
              "      <td>0.0</td>\n",
              "      <td>0.00</td>\n",
              "    </tr>\n",
              "    <tr>\n",
              "      <th>1970-01-01 00:04:00</th>\n",
              "      <td>4</td>\n",
              "      <td>3</td>\n",
              "      <td>2.1</td>\n",
              "      <td>0.15</td>\n",
              "    </tr>\n",
              "  </tbody>\n",
              "</table>\n",
              "</div>\n",
              "    <div class=\"colab-df-buttons\">\n",
              "\n",
              "  <div class=\"colab-df-container\">\n",
              "    <button class=\"colab-df-convert\" onclick=\"convertToInteractive('df-490e2153-b9f4-48cc-ab7d-9d3b65be69ef')\"\n",
              "            title=\"Convert this dataframe to an interactive table.\"\n",
              "            style=\"display:none;\">\n",
              "\n",
              "  <svg xmlns=\"http://www.w3.org/2000/svg\" height=\"24px\" viewBox=\"0 -960 960 960\">\n",
              "    <path d=\"M120-120v-720h720v720H120Zm60-500h600v-160H180v160Zm220 220h160v-160H400v160Zm0 220h160v-160H400v160ZM180-400h160v-160H180v160Zm440 0h160v-160H620v160ZM180-180h160v-160H180v160Zm440 0h160v-160H620v160Z\"/>\n",
              "  </svg>\n",
              "    </button>\n",
              "\n",
              "  <style>\n",
              "    .colab-df-container {\n",
              "      display:flex;\n",
              "      gap: 12px;\n",
              "    }\n",
              "\n",
              "    .colab-df-convert {\n",
              "      background-color: #E8F0FE;\n",
              "      border: none;\n",
              "      border-radius: 50%;\n",
              "      cursor: pointer;\n",
              "      display: none;\n",
              "      fill: #1967D2;\n",
              "      height: 32px;\n",
              "      padding: 0 0 0 0;\n",
              "      width: 32px;\n",
              "    }\n",
              "\n",
              "    .colab-df-convert:hover {\n",
              "      background-color: #E2EBFA;\n",
              "      box-shadow: 0px 1px 2px rgba(60, 64, 67, 0.3), 0px 1px 3px 1px rgba(60, 64, 67, 0.15);\n",
              "      fill: #174EA6;\n",
              "    }\n",
              "\n",
              "    .colab-df-buttons div {\n",
              "      margin-bottom: 4px;\n",
              "    }\n",
              "\n",
              "    [theme=dark] .colab-df-convert {\n",
              "      background-color: #3B4455;\n",
              "      fill: #D2E3FC;\n",
              "    }\n",
              "\n",
              "    [theme=dark] .colab-df-convert:hover {\n",
              "      background-color: #434B5C;\n",
              "      box-shadow: 0px 1px 3px 1px rgba(0, 0, 0, 0.15);\n",
              "      filter: drop-shadow(0px 1px 2px rgba(0, 0, 0, 0.3));\n",
              "      fill: #FFFFFF;\n",
              "    }\n",
              "  </style>\n",
              "\n",
              "    <script>\n",
              "      const buttonEl =\n",
              "        document.querySelector('#df-490e2153-b9f4-48cc-ab7d-9d3b65be69ef button.colab-df-convert');\n",
              "      buttonEl.style.display =\n",
              "        google.colab.kernel.accessAllowed ? 'block' : 'none';\n",
              "\n",
              "      async function convertToInteractive(key) {\n",
              "        const element = document.querySelector('#df-490e2153-b9f4-48cc-ab7d-9d3b65be69ef');\n",
              "        const dataTable =\n",
              "          await google.colab.kernel.invokeFunction('convertToInteractive',\n",
              "                                                    [key], {});\n",
              "        if (!dataTable) return;\n",
              "\n",
              "        const docLinkHtml = 'Like what you see? Visit the ' +\n",
              "          '<a target=\"_blank\" href=https://colab.research.google.com/notebooks/data_table.ipynb>data table notebook</a>'\n",
              "          + ' to learn more about interactive tables.';\n",
              "        element.innerHTML = '';\n",
              "        dataTable['output_type'] = 'display_data';\n",
              "        await google.colab.output.renderOutput(dataTable, element);\n",
              "        const docLink = document.createElement('div');\n",
              "        docLink.innerHTML = docLinkHtml;\n",
              "        element.appendChild(docLink);\n",
              "      }\n",
              "    </script>\n",
              "  </div>\n",
              "\n",
              "\n",
              "    <div id=\"df-1d2ef2fb-5dc3-4faa-9c50-3e91a0734712\">\n",
              "      <button class=\"colab-df-quickchart\" onclick=\"quickchart('df-1d2ef2fb-5dc3-4faa-9c50-3e91a0734712')\"\n",
              "                title=\"Suggest charts\"\n",
              "                style=\"display:none;\">\n",
              "\n",
              "<svg xmlns=\"http://www.w3.org/2000/svg\" height=\"24px\"viewBox=\"0 0 24 24\"\n",
              "     width=\"24px\">\n",
              "    <g>\n",
              "        <path d=\"M19 3H5c-1.1 0-2 .9-2 2v14c0 1.1.9 2 2 2h14c1.1 0 2-.9 2-2V5c0-1.1-.9-2-2-2zM9 17H7v-7h2v7zm4 0h-2V7h2v10zm4 0h-2v-4h2v4z\"/>\n",
              "    </g>\n",
              "</svg>\n",
              "      </button>\n",
              "\n",
              "<style>\n",
              "  .colab-df-quickchart {\n",
              "      --bg-color: #E8F0FE;\n",
              "      --fill-color: #1967D2;\n",
              "      --hover-bg-color: #E2EBFA;\n",
              "      --hover-fill-color: #174EA6;\n",
              "      --disabled-fill-color: #AAA;\n",
              "      --disabled-bg-color: #DDD;\n",
              "  }\n",
              "\n",
              "  [theme=dark] .colab-df-quickchart {\n",
              "      --bg-color: #3B4455;\n",
              "      --fill-color: #D2E3FC;\n",
              "      --hover-bg-color: #434B5C;\n",
              "      --hover-fill-color: #FFFFFF;\n",
              "      --disabled-bg-color: #3B4455;\n",
              "      --disabled-fill-color: #666;\n",
              "  }\n",
              "\n",
              "  .colab-df-quickchart {\n",
              "    background-color: var(--bg-color);\n",
              "    border: none;\n",
              "    border-radius: 50%;\n",
              "    cursor: pointer;\n",
              "    display: none;\n",
              "    fill: var(--fill-color);\n",
              "    height: 32px;\n",
              "    padding: 0;\n",
              "    width: 32px;\n",
              "  }\n",
              "\n",
              "  .colab-df-quickchart:hover {\n",
              "    background-color: var(--hover-bg-color);\n",
              "    box-shadow: 0 1px 2px rgba(60, 64, 67, 0.3), 0 1px 3px 1px rgba(60, 64, 67, 0.15);\n",
              "    fill: var(--button-hover-fill-color);\n",
              "  }\n",
              "\n",
              "  .colab-df-quickchart-complete:disabled,\n",
              "  .colab-df-quickchart-complete:disabled:hover {\n",
              "    background-color: var(--disabled-bg-color);\n",
              "    fill: var(--disabled-fill-color);\n",
              "    box-shadow: none;\n",
              "  }\n",
              "\n",
              "  .colab-df-spinner {\n",
              "    border: 2px solid var(--fill-color);\n",
              "    border-color: transparent;\n",
              "    border-bottom-color: var(--fill-color);\n",
              "    animation:\n",
              "      spin 1s steps(1) infinite;\n",
              "  }\n",
              "\n",
              "  @keyframes spin {\n",
              "    0% {\n",
              "      border-color: transparent;\n",
              "      border-bottom-color: var(--fill-color);\n",
              "      border-left-color: var(--fill-color);\n",
              "    }\n",
              "    20% {\n",
              "      border-color: transparent;\n",
              "      border-left-color: var(--fill-color);\n",
              "      border-top-color: var(--fill-color);\n",
              "    }\n",
              "    30% {\n",
              "      border-color: transparent;\n",
              "      border-left-color: var(--fill-color);\n",
              "      border-top-color: var(--fill-color);\n",
              "      border-right-color: var(--fill-color);\n",
              "    }\n",
              "    40% {\n",
              "      border-color: transparent;\n",
              "      border-right-color: var(--fill-color);\n",
              "      border-top-color: var(--fill-color);\n",
              "    }\n",
              "    60% {\n",
              "      border-color: transparent;\n",
              "      border-right-color: var(--fill-color);\n",
              "    }\n",
              "    80% {\n",
              "      border-color: transparent;\n",
              "      border-right-color: var(--fill-color);\n",
              "      border-bottom-color: var(--fill-color);\n",
              "    }\n",
              "    90% {\n",
              "      border-color: transparent;\n",
              "      border-bottom-color: var(--fill-color);\n",
              "    }\n",
              "  }\n",
              "</style>\n",
              "\n",
              "      <script>\n",
              "        async function quickchart(key) {\n",
              "          const quickchartButtonEl =\n",
              "            document.querySelector('#' + key + ' button');\n",
              "          quickchartButtonEl.disabled = true;  // To prevent multiple clicks.\n",
              "          quickchartButtonEl.classList.add('colab-df-spinner');\n",
              "          try {\n",
              "            const charts = await google.colab.kernel.invokeFunction(\n",
              "                'suggestCharts', [key], {});\n",
              "          } catch (error) {\n",
              "            console.error('Error during call to suggestCharts:', error);\n",
              "          }\n",
              "          quickchartButtonEl.classList.remove('colab-df-spinner');\n",
              "          quickchartButtonEl.classList.add('colab-df-quickchart-complete');\n",
              "        }\n",
              "        (() => {\n",
              "          let quickchartButtonEl =\n",
              "            document.querySelector('#df-1d2ef2fb-5dc3-4faa-9c50-3e91a0734712 button');\n",
              "          quickchartButtonEl.style.display =\n",
              "            google.colab.kernel.accessAllowed ? 'block' : 'none';\n",
              "        })();\n",
              "      </script>\n",
              "    </div>\n",
              "\n",
              "    </div>\n",
              "  </div>\n"
            ],
            "application/vnd.google.colaboratory.intrinsic+json": {
              "type": "dataframe",
              "variable_name": "df",
              "summary": "{\n  \"name\": \"df\",\n  \"rows\": 1440,\n  \"fields\": [\n    {\n      \"column\": \"time\",\n      \"properties\": {\n        \"dtype\": \"date\",\n        \"min\": \"1970-01-01 00:00:00\",\n        \"max\": \"1970-01-01 23:59:00\",\n        \"num_unique_values\": 1440,\n        \"samples\": [\n          \"1970-01-01 02:48:00\",\n          \"1970-01-01 10:05:00\",\n          \"1970-01-01 09:08:00\"\n        ],\n        \"semantic_type\": \"\",\n        \"description\": \"\"\n      }\n    },\n    {\n      \"column\": \"minute\",\n      \"properties\": {\n        \"dtype\": \"number\",\n        \"std\": 415,\n        \"min\": 0,\n        \"max\": 1439,\n        \"num_unique_values\": 1440,\n        \"samples\": [\n          168,\n          605,\n          548\n        ],\n        \"semantic_type\": \"\",\n        \"description\": \"\"\n      }\n    },\n    {\n      \"column\": \"steps\",\n      \"properties\": {\n        \"dtype\": \"number\",\n        \"std\": 1,\n        \"min\": 0,\n        \"max\": 8,\n        \"num_unique_values\": 9,\n        \"samples\": [\n          8,\n          0,\n          6\n        ],\n        \"semantic_type\": \"\",\n        \"description\": \"\"\n      }\n    },\n    {\n      \"column\": \"distance_m\",\n      \"properties\": {\n        \"dtype\": \"number\",\n        \"std\": 0.8891877896683853,\n        \"min\": 0.0,\n        \"max\": 5.6,\n        \"num_unique_values\": 9,\n        \"samples\": [\n          5.6,\n          0.0,\n          4.199999999999999\n        ],\n        \"semantic_type\": \"\",\n        \"description\": \"\"\n      }\n    },\n    {\n      \"column\": \"calories\",\n      \"properties\": {\n        \"dtype\": \"number\",\n        \"std\": 0.06351341354774194,\n        \"min\": 0.0,\n        \"max\": 0.4,\n        \"num_unique_values\": 9,\n        \"samples\": [\n          0.4,\n          0.0,\n          0.30000000000000004\n        ],\n        \"semantic_type\": \"\",\n        \"description\": \"\"\n      }\n    }\n  ]\n}"
            }
          },
          "metadata": {},
          "execution_count": 1
        }
      ],
      "source": [
        "import pandas as pd\n",
        "import numpy as np\n",
        "\n",
        "# Simulate 1 day's worth of step data (minute-by-minute)\n",
        "minutes = 1440\n",
        "np.random.seed(42)\n",
        "steps = np.random.poisson(lam=1.5, size=minutes)  # simulate step bursts\n",
        "stride_length = 0.7  # meters\n",
        "calories_per_step = 0.05  # kcal\n",
        "\n",
        "df = pd.DataFrame({\n",
        "    'minute': range(minutes),\n",
        "    'steps': steps,\n",
        "    'distance_m': steps * stride_length,\n",
        "    'calories': steps * calories_per_step\n",
        "})\n",
        "\n",
        "df['time'] = pd.to_datetime(df['minute'], unit='m')\n",
        "df.set_index('time', inplace=True)\n",
        "df.head()\n"
      ]
    },
    {
      "cell_type": "markdown",
      "source": [
        "🔹 Section 2: Real-Time Style Visualization"
      ],
      "metadata": {
        "id": "ZDO4Br44q38c"
      }
    },
    {
      "cell_type": "code",
      "source": [
        "import matplotlib.pyplot as plt\n",
        "\n",
        "# Resample to hourly totals\n",
        "hourly = df.resample('H').sum()\n",
        "\n",
        "plt.figure(figsize=(12, 5))\n",
        "plt.plot(hourly.index, hourly['steps'], label='Steps', color='blue')\n",
        "plt.plot(hourly.index, hourly['distance_m']/1000, label='Distance (km)', color='green')\n",
        "plt.plot(hourly.index, hourly['calories'], label='Calories Burned', color='red')\n",
        "plt.title('🏃‍♀️ Hourly Fitness Tracker Simulation')\n",
        "plt.xlabel('Time')\n",
        "plt.ylabel('Metrics')\n",
        "plt.legend()\n",
        "plt.grid(True)\n",
        "plt.show()\n"
      ],
      "metadata": {
        "colab": {
          "base_uri": "https://localhost:8080/",
          "height": 556
        },
        "id": "BAsJ37v5q4lO",
        "outputId": "dd548dc4-2a50-4766-9cc6-9709847eb73f"
      },
      "execution_count": 2,
      "outputs": [
        {
          "output_type": "stream",
          "name": "stderr",
          "text": [
            "/tmp/ipython-input-985846449.py:4: FutureWarning: 'H' is deprecated and will be removed in a future version, please use 'h' instead.\n",
            "  hourly = df.resample('H').sum()\n",
            "/usr/local/lib/python3.11/dist-packages/IPython/core/pylabtools.py:151: UserWarning: Glyph 127939 (\\N{RUNNER}) missing from font(s) DejaVu Sans.\n",
            "  fig.canvas.print_figure(bytes_io, **kw)\n"
          ]
        },
        {
          "output_type": "display_data",
          "data": {
            "text/plain": [
              "<Figure size 1200x500 with 1 Axes>"
            ],
            "image/png": "[encoded data removed]"
          },
          "metadata": {}
        }
      ]
    },
    {
      "cell_type": "markdown",
      "source": [
        "🔹 Section 3: Summary Insights"
      ],
      "metadata": {
        "id": "zO5S_A9VrAwh"
      }
    },
    {
      "cell_type": "code",
      "source": [
        "total_steps = df['steps'].sum()\n",
        "total_distance_km = df['distance_m'].sum() / 1000\n",
        "total_calories = df['calories'].sum()\n",
        "\n",
        "print(f\"✅ Total Steps: {total_steps}\")\n",
        "print(f\"📏 Total Distance: {total_distance_km:.2f} km\")\n",
        "print(f\"🔥 Total Calories Burned: {total_calories:.2f} kcal\")\n"
      ],
      "metadata": {
        "colab": {
          "base_uri": "https://localhost:8080/"
        },
        "id": "LKqhem7ErBbc",
        "outputId": "cacd8e90-7f35-4577-ae15-b540744d9278"
      },
      "execution_count": 3,
      "outputs": [
        {
          "output_type": "stream",
          "name": "stdout",
          "text": [
            "✅ Total Steps: 2169\n",
            "📏 Total Distance: 1.52 km\n",
            "🔥 Total Calories Burned: 108.45 kcal\n"
          ]
        }
      ]
    },
    {
      "cell_type": "markdown",
      "source": [
        "🧩 What You’ve Built in Colab:\n",
        "Simulated sensor data (steps, distance, calories)\n",
        "\n",
        "Real-time style dashboard with Matplotlib\n",
        "\n",
        "Summary insights and diagnostic-ready logic\n",
        "\n",
        "A portfolio-ready module for documentation and testing"
      ],
      "metadata": {
        "id": "CnX7D_I-rh6h"
      }
    },
    {
      "cell_type": "markdown",
      "source": [
        "📱 What Still Needs to Be Built in Android Studio:\n",
        "Frontend UI: Scrollable dashboard with live metrics\n",
        "\n",
        "Sensor integration: Using SensorManager for step tracking, GPS for distance\n",
        "\n",
        "Live updates: With LiveData, ViewModel, or Flow\n",
        "\n",
        "Charts: Using libraries like MPAndroidChart for visual storytelling\n",
        "\n",
        "Data sync: Optional local storage or cloud sync for history."
      ],
      "metadata": {
        "id": "PHGYCVTprmxk"
      }
    },
    {
      "cell_type": "markdown",
      "source": [
        "🔥 Task 4 – Android Fitness Tracker: Sensor Simulation & Wellness Insights\n",
        "\n",
        "As part of my internship at CodTech IT Solutions, I designed and simulated the backend logic for a Fitness Tracker App that monitors steps, distance, and calories burned using Android’s built-in sensors.\n",
        "\n",
        "📱 While the full app will be developed in Android Studio, I built a scrollable Colab module to simulate real-time sensor behavior, visualize activity trends, and generate actionable insights.\n",
        "\n",
        "✅ Simulated 24-hour activity using Poisson-distributed step data ✅ Calculated distance and calories burned using stride-based logic ✅ Visualized hourly trends with Matplotlib ✅ Generated summary insights for total movement and wellness tracking\n",
        "\n",
        "📊 Key Insight: Over a 24-hour period, the user recorded 2169 steps, covered 1.52 km, and burned 108.45 kcal. Hourly breakdowns revealed light activity with potential for personalized goal-setting and habit optimization.\n",
        "\n",
        "This module lays the groundwork for integrating real sensor data, building adaptive dashboards, and empowering users with meaningful wellness feedback.\n",
        "\n",
        "Next up: UI prototyping and sensor integration in Android Studio 🚀\n",
        "\n",
        "#AndroidDev #FitnessTracker #InternshipJourney #CodTech #UXDesign #DataVisualization #AIforWellness #JosyBuilds #SensorSimulation #PythonInColab #RealTimeInsights"
      ],
      "metadata": {
        "id": "rwhgyF1EsgCI"
      }
    }
  ]
}