{
  "nbformat": 4,
  "nbformat_minor": 0,
  "metadata": {
    "colab": {
      "provenance": [],
      "authorship_tag": "ABX9TyPXaI+OHbiT/vdfvKA1wnGR",
      "include_colab_link": true
    },
    "kernelspec": {
      "name": "python3",
      "display_name": "Python 3"
    },
    "language_info": {
      "name": "python"
    }
  },
  "cells": [
    {
      "cell_type": "markdown",
      "metadata": {
        "id": "view-in-github",
        "colab_type": "text"
      },
      "source": [
        "<a href=\"https://colab.research.google.com/github/J878-commits/-Task-1-Text-Summarization-with-Transformers-Gradio-/blob/main/%22CodTech_Internship_Task_4_SVD_Powered_Recommendation_Engine%22.ipynb\" target=\"_parent\"><img src=\"https://colab.research.google.com/assets/colab-badge.svg\" alt=\"Open In Colab\"/></a>"
      ]
    },
    {
      "cell_type": "markdown",
      "source": [
        "🎯 Task 4: Recommendation System — CodTech Internship\n",
        "\n",
        "✅ Objective\n",
        "Build a Recommendation System using:\n",
        "\n",
        "Collaborative Filtering (user-user or item-item)\n",
        "\n",
        "or Matrix Factorization (e.g., SVD, ALS)"
      ],
      "metadata": {
        "id": "fkuJtdF3r4hu"
      }
    },
    {
      "cell_type": "markdown",
      "source": [
        "🧠 Step 1: Setup & Imports"
      ],
      "metadata": {
        "id": "MM9Fi4LRsAOY"
      }
    },
    {
      "cell_type": "code",
      "execution_count": 1,
      "metadata": {
        "colab": {
          "base_uri": "https://localhost:8080/",
          "height": 794
        },
        "id": "TkbgE6IOrz3O",
        "outputId": "49a5cebe-f238-4a76-a23c-5fbd17ffaeec"
      },
      "outputs": [
        {
          "output_type": "stream",
          "name": "stdout",
          "text": [
            "Found existing installation: numpy 2.3.2\n",
            "Uninstalling numpy-2.3.2:\n",
            "  Successfully uninstalled numpy-2.3.2\n",
            "Collecting numpy==1.23.5\n",
            "  Using cached numpy-1.23.5-cp311-cp311-manylinux_2_17_x86_64.manylinux2014_x86_64.whl.metadata (2.3 kB)\n",
            "Using cached numpy-1.23.5-cp311-cp311-manylinux_2_17_x86_64.manylinux2014_x86_64.whl (17.1 MB)\n",
            "Installing collected packages: numpy\n",
            "\u001b[31mERROR: pip's dependency resolver does not currently take into account all the packages that are installed. This behaviour is the source of the following dependency conflicts.\n",
            "pywavelets 1.9.0 requires numpy<3,>=1.25, but you have numpy 1.23.5 which is incompatible.\n",
            "xarray 2025.7.1 requires numpy>=1.26, but you have numpy 1.23.5 which is incompatible.\n",
            "albumentations 2.0.8 requires numpy>=1.24.4, but you have numpy 1.23.5 which is incompatible.\n",
            "xarray-einstats 0.9.1 requires numpy>=1.25, but you have numpy 1.23.5 which is incompatible.\n",
            "opencv-python 4.12.0.88 requires numpy<2.3.0,>=2; python_version >= \"3.9\", but you have numpy 1.23.5 which is incompatible.\n",
            "scikit-image 0.25.2 requires numpy>=1.24, but you have numpy 1.23.5 which is incompatible.\n",
            "jax 0.5.3 requires numpy>=1.25, but you have numpy 1.23.5 which is incompatible.\n",
            "geopandas 1.1.1 requires numpy>=1.24, but you have numpy 1.23.5 which is incompatible.\n",
            "tensorflow 2.19.0 requires numpy<2.2.0,>=1.26.0, but you have numpy 1.23.5 which is incompatible.\n",
            "jaxlib 0.5.3 requires numpy>=1.25, but you have numpy 1.23.5 which is incompatible.\n",
            "scipy 1.16.1 requires numpy<2.6,>=1.25.2, but you have numpy 1.23.5 which is incompatible.\n",
            "contourpy 1.3.3 requires numpy>=1.25, but you have numpy 1.23.5 which is incompatible.\n",
            "chex 0.1.90 requires numpy>=1.24.1, but you have numpy 1.23.5 which is incompatible.\n",
            "blosc2 3.6.1 requires numpy>=1.26, but you have numpy 1.23.5 which is incompatible.\n",
            "opencv-contrib-python 4.12.0.88 requires numpy<2.3.0,>=2; python_version >= \"3.9\", but you have numpy 1.23.5 which is incompatible.\n",
            "pymc 5.25.1 requires numpy>=1.25.0, but you have numpy 1.23.5 which is incompatible.\n",
            "imbalanced-learn 0.13.0 requires numpy<3,>=1.24.3, but you have numpy 1.23.5 which is incompatible.\n",
            "albucore 0.0.24 requires numpy>=1.24.4, but you have numpy 1.23.5 which is incompatible.\n",
            "treescope 0.1.9 requires numpy>=1.25.2, but you have numpy 1.23.5 which is incompatible.\n",
            "opencv-python-headless 4.12.0.88 requires numpy<2.3.0,>=2; python_version >= \"3.9\", but you have numpy 1.23.5 which is incompatible.\n",
            "thinc 8.3.6 requires numpy<3.0.0,>=2.0.0, but you have numpy 1.23.5 which is incompatible.\n",
            "arviz 0.22.0 requires numpy>=1.26.0, but you have numpy 1.23.5 which is incompatible.\n",
            "db-dtypes 1.4.3 requires numpy>=1.24.0, but you have numpy 1.23.5 which is incompatible.\n",
            "bigframes 2.13.0 requires numpy>=1.24.0, but you have numpy 1.23.5 which is incompatible.\u001b[0m\u001b[31m\n",
            "\u001b[0mSuccessfully installed numpy-1.23.5\n"
          ]
        },
        {
          "output_type": "display_data",
          "data": {
            "application/vnd.colab-display-data+json": {
              "pip_warning": {
                "packages": [
                  "numpy"
                ]
              },
              "id": "5302f685fb8d4e84a02eac8f6bfa8fe6"
            }
          },
          "metadata": {}
        },
        {
          "output_type": "stream",
          "name": "stdout",
          "text": [
            "Requirement already satisfied: scikit-surprise in /usr/local/lib/python3.11/dist-packages (1.1.4)\n",
            "Requirement already satisfied: joblib>=1.2.0 in /usr/local/lib/python3.11/dist-packages (from scikit-surprise) (1.5.1)\n",
            "Requirement already satisfied: numpy>=1.19.5 in /usr/local/lib/python3.11/dist-packages (from scikit-surprise) (1.23.5)\n",
            "Requirement already satisfied: scipy>=1.6.0 in /usr/local/lib/python3.11/dist-packages (from scikit-surprise) (1.16.1)\n",
            "^C\n"
          ]
        }
      ],
      "source": [
        "# Force reinstall compatible versions\n",
        "!pip uninstall -y numpy\n",
        "!pip install numpy==1.23.5\n",
        "!pip install scikit-surprise\n",
        "\n"
      ]
    },
    {
      "cell_type": "code",
      "source": [
        "from surprise import SVD, Dataset, Reader\n",
        "from surprise.model_selection import train_test_split\n",
        "from surprise import accuracy\n",
        "import pandas as pd\n"
      ],
      "metadata": {
        "id": "4IKOfE4Os6xY"
      },
      "execution_count": 1,
      "outputs": []
    },
    {
      "cell_type": "markdown",
      "source": [
        "📥 Step 2: Load Dataset"
      ],
      "metadata": {
        "id": "fqhHG4zgsO9m"
      }
    },
    {
      "cell_type": "code",
      "source": [
        "from surprise import Dataset\n",
        "from surprise.model_selection import train_test_split\n",
        "\n",
        "# Load the MovieLens 100k dataset\n",
        "data = Dataset.load_builtin('ml-100k')\n",
        "\n",
        "# Split into training and testing sets\n",
        "trainset, testset = train_test_split(data, test_size=0.2)\n"
      ],
      "metadata": {
        "colab": {
          "base_uri": "https://localhost:8080/"
        },
        "id": "LbruZBUAtC3J",
        "outputId": "28aa1498-61b6-447e-c253-cd5087275472"
      },
      "execution_count": 2,
      "outputs": [
        {
          "output_type": "stream",
          "name": "stdout",
          "text": [
            "Dataset ml-100k could not be found. Do you want to download it? [Y/n] Y\n",
            "Trying to download dataset from https://files.grouplens.org/datasets/movielens/ml-100k.zip...\n",
            "Done! Dataset ml-100k has been saved to /root/.surprise_data/ml-100k\n"
          ]
        }
      ]
    },
    {
      "cell_type": "markdown",
      "source": [
        "✅ Step 3 Recap: Train the SVD Model"
      ],
      "metadata": {
        "id": "o-Yvwpe_tXGy"
      }
    },
    {
      "cell_type": "code",
      "source": [
        "from surprise import SVD\n",
        "\n",
        "# Initialize and train the model\n",
        "model = SVD()\n",
        "model.fit(trainset)\n"
      ],
      "metadata": {
        "colab": {
          "base_uri": "https://localhost:8080/"
        },
        "id": "5pcjxsvctXw_",
        "outputId": "79fbf649-1108-46df-c9b7-322762e8d84d"
      },
      "execution_count": 3,
      "outputs": [
        {
          "output_type": "execute_result",
          "data": {
            "text/plain": [
              "<surprise.prediction_algorithms.matrix_factorization.SVD at 0x7ebd2aa92410>"
            ]
          },
          "metadata": {},
          "execution_count": 3
        }
      ]
    },
    {
      "cell_type": "markdown",
      "source": [
        "📊 Step 4: Evaluate the Model"
      ],
      "metadata": {
        "id": "jSg2XCxMteYr"
      }
    },
    {
      "cell_type": "code",
      "source": [
        "from surprise import accuracy\n",
        "\n",
        "# Predict ratings for the test set\n",
        "predictions = model.test(testset)\n",
        "\n",
        "# Evaluate performance\n",
        "rmse = accuracy.rmse(predictions)\n",
        "mae = accuracy.mae(predictions)\n"
      ],
      "metadata": {
        "colab": {
          "base_uri": "https://localhost:8080/"
        },
        "id": "RgvbO2A-tgSN",
        "outputId": "1943416e-a5d4-4611-fce3-1fff98b2b67f"
      },
      "execution_count": 4,
      "outputs": [
        {
          "output_type": "stream",
          "name": "stdout",
          "text": [
            "RMSE: 0.9322\n",
            "MAE:  0.7326\n"
          ]
        }
      ]
    },
    {
      "cell_type": "markdown",
      "source": [
        "🎯 Step 5: Generate Top-N Recommendations"
      ],
      "metadata": {
        "id": "YLNdt50StnN-"
      }
    },
    {
      "cell_type": "code",
      "source": [
        "from collections import defaultdict\n",
        "\n",
        "def get_top_n(predictions, n=5):\n",
        "    top_n = defaultdict(list)\n",
        "    for uid, iid, true_r, est, _ in predictions:\n",
        "        top_n[uid].append((iid, est))\n",
        "    # Sort and get top N\n",
        "    for uid, user_ratings in top_n.items():\n",
        "        user_ratings.sort(key=lambda x: x[1], reverse=True)\n",
        "        top_n[uid] = user_ratings[:n]\n",
        "    return top_n\n",
        "\n",
        "# Get top 5 recommendations per user\n",
        "top_n = get_top_n(predictions, n=5)\n",
        "\n",
        "# Display sample recommendations\n",
        "for uid, user_recs in list(top_n.items())[:3]:\n",
        "    print(f\"User {uid}: {[iid for iid, _ in user_recs]}\")\n"
      ],
      "metadata": {
        "colab": {
          "base_uri": "https://localhost:8080/"
        },
        "id": "FyBWnJ2Jtn2I",
        "outputId": "d1f26686-d8fe-47bc-e066-383f880b2b00"
      },
      "execution_count": 5,
      "outputs": [
        {
          "output_type": "stream",
          "name": "stdout",
          "text": [
            "User 851: ['174', '313', '172', '153', '22']\n",
            "User 893: ['96', '258', '286', '1012', '161']\n",
            "User 627: ['100', '64', '56', '183', '172']\n"
          ]
        }
      ]
    },
    {
      "cell_type": "markdown",
      "source": [
        "🧪 Step 6: Visualize Evaluation Metrics"
      ],
      "metadata": {
        "id": "DQQyrEoRtvSZ"
      }
    },
    {
      "cell_type": "code",
      "source": [
        "import matplotlib.pyplot as plt\n",
        "\n",
        "# Bar chart of RMSE and MAE\n",
        "metrics = {'RMSE': rmse, 'MAE': mae}\n",
        "plt.bar(metrics.keys(), metrics.values(), color=['skyblue', 'salmon'])\n",
        "plt.title('Evaluation Metrics')\n",
        "plt.ylabel('Error')\n",
        "plt.show()\n"
      ],
      "metadata": {
        "colab": {
          "base_uri": "https://localhost:8080/",
          "height": 452
        },
        "id": "rAZAqeBctv6g",
        "outputId": "df132e08-e871-4358-f245-20ff084a807a"
      },
      "execution_count": 6,
      "outputs": [
        {
          "output_type": "display_data",
          "data": {
            "text/plain": [
              "<Figure size 640x480 with 1 Axes>"
            ],
            "image/png": "[encoded data removed]"
          },
          "metadata": {}
        }
      ]
    },
    {
      "cell_type": "markdown",
      "source": [
        "The evaluation metrics for Task 4, which is building a Recommendation System using SVD on the MovieLens 100k dataset, are as follows:\n",
        "\n",
        "RMSE (Root Mean Squared Error): Approximately 0.9322\n",
        "MAE (Mean Absolute Error): Approximately 0.7326\n",
        "These values indicate the accuracy of the model's predictions. A lower RMSE and MAE generally suggest better performance. The bar chart in the notebook visually represents these metrics."
      ],
      "metadata": {
        "id": "rsFEYJa9uGnr"
      }
    },
    {
      "cell_type": "markdown",
      "source": [
        "📊 Evaluation Summary: Task 4 — Recommendation System"
      ],
      "metadata": {
        "id": "giW8ZSGEuN8j"
      }
    },
    {
      "cell_type": "markdown",
      "source": [
        "### 🔍 Model Evaluation\n",
        "\n",
        "For Task 4 of the CodTech internship, we implemented a Recommendation System using **Singular Value Decomposition (SVD)** on the **MovieLens 100k** dataset. The model was trained to predict user ratings and generate personalized top-N recommendations.\n",
        "\n",
        "#### 📈 Evaluation Metrics:\n",
        "- **RMSE (Root Mean Squared Error):** ~0.9322  \n",
        "- **MAE (Mean Absolute Error):** ~0.7326  \n",
        "\n",
        "These metrics reflect the model’s ability to predict user preferences. Lower values indicate better performance, with RMSE capturing the magnitude of prediction errors and MAE offering a more interpretable average deviation.\n",
        "\n",
        "#### 📊 Visual Insight:\n",
        "A bar chart was included to compare RMSE and MAE side by side, helping stakeholders quickly assess model accuracy.\n",
        "\n",
        "#### ✅ Interpretation:\n",
        "The results suggest that the SVD model performs reliably on this dataset, making it suitable for real-world recommendation tasks. Future improvements could include:\n",
        "- Hybrid models combining content-based and collaborative filtering\n",
        "- Context-aware recommendations using time or location\n",
        "- Interactive UI for user-driven exploration\n"
      ],
      "metadata": {
        "id": "-g1bUmG4uQb7"
      }
    }
  ]
}