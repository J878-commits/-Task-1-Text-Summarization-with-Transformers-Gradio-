{
  "nbformat": 4,
  "nbformat_minor": 0,
  "metadata": {
    "colab": {
      "provenance": [],
      "authorship_tag": "ABX9TyMzaVhP/61dU6u9UfYGePI7",
      "include_colab_link": true
    },
    "kernelspec": {
      "name": "python3",
      "display_name": "Python 3"
    },
    "language_info": {
      "name": "python"
    }
  },
  "cells": [
    {
      "cell_type": "markdown",
      "metadata": {
        "id": "view-in-github",
        "colab_type": "text"
      },
      "source": [
        "<a href=\"https://colab.research.google.com/github/J878-commits/-Task-1-Text-Summarization-with-Transformers-Gradio-/blob/main/%22Secure_DevOps_in_Action_Simulating_CI_CD_with_SonarQube_%26_OWASP_ZAP%22.ipynb\" target=\"_parent\"><img src=\"https://colab.research.google.com/assets/colab-badge.svg\" alt=\"Open In Colab\"/></a>"
      ]
    },
    {
      "cell_type": "markdown",
      "source": [
        "✅ Task 4: Secure DevOps – CI/CD Pipeline with SonarQube & OWASP ZAP\n",
        "Notebook Title: Secure DevOps Pipeline Simulation – SonarQube & OWASP ZAP Integration\n",
        "\n",
        "📌 Step-by-Step Structure for Colab"
      ],
      "metadata": {
        "id": "9J3F_tcsngXK"
      }
    },
    {
      "cell_type": "markdown",
      "source": [
        "# 🔐 Secure DevOps Pipeline Simulation – CodTech Internship Task 4\n",
        "\n",
        "This notebook simulates the integration of security scanning tools—**SonarQube** for static code analysis and **OWASP ZAP** for dynamic vulnerability scanning—into a CI/CD pipeline using Python and YAML logic.\n",
        "\n",
        "**Goal:** Demonstrate secure DevOps practices by configuring a pipeline and generating a simulated vulnerability report.\n",
        "\n",
        "**Deliverables:**\n",
        "- CI/CD pipeline configuration\n",
        "- Vulnerability scan simulation\n",
        "- Summary report for internship completion\n",
        "\n",
        "---\n"
      ],
      "metadata": {
        "id": "c89oTH3Enmxv"
      }
    },
    {
      "cell_type": "markdown",
      "source": [
        "⚙️ 2. Simulate Project Setup (Python)"
      ],
      "metadata": {
        "id": "JDSY2ZIvntxS"
      }
    },
    {
      "cell_type": "code",
      "execution_count": 1,
      "metadata": {
        "colab": {
          "base_uri": "https://localhost:8080/"
        },
        "id": "Jz4tF0kjnfT3",
        "outputId": "c48e174d-e57c-419f-d091-8c0b7da1fd67"
      },
      "outputs": [
        {
          "output_type": "stream",
          "name": "stdout",
          "text": [
            "✅ Project files created.\n"
          ]
        }
      ],
      "source": [
        "# Simulate a basic project structure\n",
        "project_files = {\n",
        "    \"app.py\": \"def hello():\\n    print('Hello, world!')\",\n",
        "    \"requirements.txt\": \"flask\\nrequests\",\n",
        "    \"Dockerfile\": \"FROM python:3.9\\nCOPY . /app\\nWORKDIR /app\\nRUN pip install -r requirements.txt\\nCMD ['python', 'app.py']\"\n",
        "}\n",
        "\n",
        "for filename, content in project_files.items():\n",
        "    with open(filename, \"w\") as f:\n",
        "        f.write(content)\n",
        "\n",
        "print(\"✅ Project files created.\")\n"
      ]
    },
    {
      "cell_type": "markdown",
      "source": [
        "🧪 3. Simulate SonarQube Static Analysis (Python)"
      ],
      "metadata": {
        "id": "rfwYOGbJn3RU"
      }
    },
    {
      "cell_type": "code",
      "source": [
        "# Simulate SonarQube scan results\n",
        "sonarqube_results = {\n",
        "    \"bugs\": 2,\n",
        "    \"vulnerabilities\": 1,\n",
        "    \"code_smells\": 5,\n",
        "    \"security_hotspots\": 1\n",
        "}\n",
        "\n",
        "print(\"🔍 SonarQube Scan Summary:\")\n",
        "for k, v in sonarqube_results.items():\n",
        "    print(f\"{k.capitalize()}: {v}\")\n"
      ],
      "metadata": {
        "colab": {
          "base_uri": "https://localhost:8080/"
        },
        "id": "PGlWniuEn7YK",
        "outputId": "01c0db37-9450-4677-90ce-641b4a86c543"
      },
      "execution_count": 2,
      "outputs": [
        {
          "output_type": "stream",
          "name": "stdout",
          "text": [
            "🔍 SonarQube Scan Summary:\n",
            "Bugs: 2\n",
            "Vulnerabilities: 1\n",
            "Code_smells: 5\n",
            "Security_hotspots: 1\n"
          ]
        }
      ]
    },
    {
      "cell_type": "markdown",
      "source": [
        "🕷️ 4. Simulate OWASP ZAP Dynamic Scan (Python)"
      ],
      "metadata": {
        "id": "qL513cEvoBBE"
      }
    },
    {
      "cell_type": "code",
      "source": [
        "# Simulate OWASP ZAP scan results\n",
        "zap_results = {\n",
        "    \"SQL Injection\": \"Low\",\n",
        "    \"XSS\": \"Medium\",\n",
        "    \"CSRF\": \"High\",\n",
        "    \"Sensitive Data Exposure\": \"Medium\"\n",
        "}\n",
        "\n",
        "print(\"🛡️ OWASP ZAP Vulnerability Report:\")\n",
        "for vuln, severity in zap_results.items():\n",
        "    print(f\"{vuln}: {severity}\")\n"
      ],
      "metadata": {
        "colab": {
          "base_uri": "https://localhost:8080/"
        },
        "id": "VhFyL5gNoDtt",
        "outputId": "e9def49d-9aa9-4660-cc77-c7fb105102f1"
      },
      "execution_count": 3,
      "outputs": [
        {
          "output_type": "stream",
          "name": "stdout",
          "text": [
            "🛡️ OWASP ZAP Vulnerability Report:\n",
            "SQL Injection: Low\n",
            "XSS: Medium\n",
            "CSRF: High\n",
            "Sensitive Data Exposure: Medium\n"
          ]
        }
      ]
    },
    {
      "cell_type": "markdown",
      "source": [
        "🔄 5. Simulated CI/CD Pipeline Configuration (Markdown + YAML-style)"
      ],
      "metadata": {
        "id": "VpyTrsFFoIpD"
      }
    },
    {
      "cell_type": "code",
      "source": [
        "pipeline_yaml = \"\"\"\n",
        "stages:\n",
        "  - build\n",
        "  - test\n",
        "  - scan\n",
        "  - deploy\n",
        "\n",
        "build:\n",
        "  script:\n",
        "    - docker build -t codtech-app .\n",
        "\n",
        "test:\n",
        "  script:\n",
        "    - pytest\n",
        "\n",
        "scan:\n",
        "  script:\n",
        "    - sonar-scanner\n",
        "    - zap-cli quick-scan --self-contained --start-options\n",
        "\n",
        "deploy:\n",
        "  script:\n",
        "    - kubectl apply -f deployment.yaml\n",
        "\"\"\"\n",
        "\n",
        "print(pipeline_yaml)\n"
      ],
      "metadata": {
        "colab": {
          "base_uri": "https://localhost:8080/"
        },
        "id": "Xht1a2GYoY1O",
        "outputId": "e110e09a-2c7d-4f39-fea9-0dbe37027f49"
      },
      "execution_count": 5,
      "outputs": [
        {
          "output_type": "stream",
          "name": "stdout",
          "text": [
            "\n",
            "stages:\n",
            "  - build\n",
            "  - test\n",
            "  - scan\n",
            "  - deploy\n",
            "\n",
            "build:\n",
            "  script:\n",
            "    - docker build -t codtech-app .\n",
            "\n",
            "test:\n",
            "  script:\n",
            "    - pytest\n",
            "\n",
            "scan:\n",
            "  script:\n",
            "    - sonar-scanner\n",
            "    - zap-cli quick-scan --self-contained --start-options\n",
            "\n",
            "deploy:\n",
            "  script:\n",
            "    - kubectl apply -f deployment.yaml\n",
            "\n"
          ]
        }
      ]
    },
    {
      "cell_type": "markdown",
      "metadata": {
        "id": "6400df33"
      },
      "source": [
        "## Task Summary, Insights, and Conclusion\n",
        "\n",
        "This notebook simulated a secure DevOps pipeline by integrating **SonarQube** for static code analysis and **OWASP ZAP** for dynamic vulnerability scanning within a CI/CD workflow.\n",
        "\n",
        "1.  **Project Setup Simulation:** Basic project files (`app.py`, `requirements.txt`, `Dockerfile`) were created to represent a typical application structure.\n",
        "2.  **SonarQube Simulation:** Simulated SonarQube scan results indicated the presence of technical debt and potential security issues (bugs, vulnerabilities, code smells, security hotspots).\n",
        "3.  **OWASP ZAP Simulation:** Simulated OWASP ZAP scan results highlighted various web application vulnerabilities with different severity levels (e.g., SQL Injection, XSS, CSRF, Sensitive Data Exposure).\n",
        "4.  **CI/CD Pipeline Configuration Simulation:** A YAML-like structure was presented, outlining the stages of a CI/CD pipeline including build, test, scan (integrating SonarQube and ZAP), and deploy.\n",
        "\n",
        "**Insights:**\n",
        "\n",
        "*   The simulation demonstrates the value of integrating security scanning tools early in the CI/CD pipeline. Identifying issues during the `scan` stage prevents vulnerable code from reaching production.\n",
        "*   Both static (SonarQube) and dynamic (OWASP ZAP) analysis provide different perspectives on security and code quality. Static analysis catches issues in the code itself, while dynamic analysis identifies vulnerabilities in the running application. A comprehensive security approach requires both.\n",
        "*   The simulated results highlight common web application vulnerabilities and code quality issues that need to be addressed for a secure and maintainable application.\n",
        "\n",
        "**Conclusion:**\n",
        "\n",
        "The simulation successfully illustrates the concept of a secure DevOps pipeline. By integrating tools like SonarQube and OWASP ZAP, development teams can automate security checks, gain visibility into code quality and vulnerabilities, and ultimately deliver more secure software faster. The simulated results serve as a reminder that continuous security testing is crucial throughout the software development lifecycle."
      ]
    }
  ]
}