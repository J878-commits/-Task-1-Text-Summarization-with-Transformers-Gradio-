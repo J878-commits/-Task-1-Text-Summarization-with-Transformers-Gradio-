{
  "nbformat": 4,
  "nbformat_minor": 0,
  "metadata": {
    "colab": {
      "provenance": [],
      "authorship_tag": "ABX9TyNmSOsiWok03GFZvM600GnM",
      "include_colab_link": true
    },
    "kernelspec": {
      "name": "python3",
      "display_name": "Python 3"
    },
    "language_info": {
      "name": "python"
    }
  },
  "cells": [
    {
      "cell_type": "markdown",
      "metadata": {
        "id": "view-in-github",
        "colab_type": "text"
      },
      "source": [
        "<a href=\"https://colab.research.google.com/github/J878-commits/-Task-1-Text-Summarization-with-Transformers-Gradio-/blob/main/CodTech_IT_Internship_%E2%80%93_Task_4_Data_Science_Optimization_with_PuLP.ipynb\" target=\"_parent\"><img src=\"https://colab.research.google.com/assets/colab-badge.svg\" alt=\"Open In Colab\"/></a>"
      ]
    },
    {
      "cell_type": "markdown",
      "source": [
        "🏢 Business Scenario: Hyderabad-Based Textile Manufacturer\n",
        "Context: A small textile business in Hyderabad produces two types of garments:\n",
        "\n",
        "Kurta (Product A)\n",
        "\n",
        "Saree (Product B)\n",
        "\n",
        "They want to maximize profit while managing limited resources:\n",
        "\n",
        "Labor hours\n",
        "\n",
        "Fabric availability\n",
        "\n"
      ],
      "metadata": {
        "id": "wsfR3_bxhuah"
      }
    },
    {
      "cell_type": "markdown",
      "source": [
        "✅ Step 1: Set Up Your Colab Notebook"
      ],
      "metadata": {
        "id": "m-_sEIIGh0mw"
      }
    },
    {
      "cell_type": "markdown",
      "source": [
        "# Task 4: Business Optimization for Hyderabad Textile Manufacturer\n",
        "### Internship Project – CodTech | Optimization with PuLP"
      ],
      "metadata": {
        "id": "XR8L6mV_h5vF"
      }
    },
    {
      "cell_type": "code",
      "execution_count": 1,
      "metadata": {
        "colab": {
          "base_uri": "https://localhost:8080/"
        },
        "id": "Fql8ebw6hqLp",
        "outputId": "c87e4633-5515-4bde-891b-9f20dc75a122"
      },
      "outputs": [
        {
          "output_type": "stream",
          "name": "stdout",
          "text": [
            "Collecting pulp\n",
            "  Downloading pulp-3.2.2-py3-none-any.whl.metadata (6.9 kB)\n",
            "Downloading pulp-3.2.2-py3-none-any.whl (16.4 MB)\n",
            "\u001b[2K   \u001b[90m━━━━━━━━━━━━━━━━━━━━━━━━━━━━━━━━━━━━━━━━\u001b[0m \u001b[32m16.4/16.4 MB\u001b[0m \u001b[31m51.5 MB/s\u001b[0m eta \u001b[36m0:00:00\u001b[0m\n",
            "\u001b[?25hInstalling collected packages: pulp\n",
            "Successfully installed pulp-3.2.2\n"
          ]
        }
      ],
      "source": [
        "\n",
        "# Install PuLP if not already available\n",
        "!pip install pulp\n"
      ]
    },
    {
      "cell_type": "markdown",
      "source": [
        "✅ Step 2: Import Libraries"
      ],
      "metadata": {
        "id": "sM34Z_kCiHLG"
      }
    },
    {
      "cell_type": "code",
      "source": [
        "import pulp\n",
        "\n"
      ],
      "metadata": {
        "id": "sTqQHxcgiKBK"
      },
      "execution_count": 2,
      "outputs": []
    },
    {
      "cell_type": "markdown",
      "source": [
        "✅ Step 3: Define the Optimization Problem"
      ],
      "metadata": {
        "id": "qAZm-mh_iQtx"
      }
    },
    {
      "cell_type": "code",
      "source": [
        "# Create a maximization LP problem\n",
        "model = pulp.LpProblem(\"Maximize_Profit_Hyderabad_Textiles\", pulp.LpMaximize)\n"
      ],
      "metadata": {
        "id": "557lguUHiRXT"
      },
      "execution_count": 3,
      "outputs": []
    },
    {
      "cell_type": "markdown",
      "source": [
        "✅ Step 4: Define Decision Variables"
      ],
      "metadata": {
        "id": "hfMbfuFxiXJL"
      }
    },
    {
      "cell_type": "code",
      "source": [
        "# Number of Kurtas and Sarees to produce\n",
        "kurta = pulp.LpVariable('Kurta', lowBound=0, cat='Continuous')\n",
        "saree = pulp.LpVariable('Saree', lowBound=0, cat='Continuous')\n"
      ],
      "metadata": {
        "id": "GPZ8eO-KiYB4"
      },
      "execution_count": 4,
      "outputs": []
    },
    {
      "cell_type": "markdown",
      "source": [
        "✅ Step 5: Define Objective Function\n",
        "Assume:\n",
        "\n",
        "Profit per Kurta = ₹250\n",
        "\n",
        "Profit per Saree = ₹400"
      ],
      "metadata": {
        "id": "_WjGMZuSidK3"
      }
    },
    {
      "cell_type": "code",
      "source": [
        "model += 250 * kurta + 400 * saree, \"Total_Profit\"\n"
      ],
      "metadata": {
        "id": "nm4D-fwViegq"
      },
      "execution_count": 5,
      "outputs": []
    },
    {
      "cell_type": "markdown",
      "source": [
        "✅ Step 6: Add Constraints\n",
        "Assume:\n",
        "\n",
        "Labor hours available = 600\n",
        "\n",
        "Fabric available = 400 meters\n",
        "\n",
        "Each Kurta needs 3 hours and 2 meters\n",
        "\n",
        "Each Saree needs 4 hours and 5 meters"
      ],
      "metadata": {
        "id": "7uOE13bmij5k"
      }
    },
    {
      "cell_type": "code",
      "source": [
        "model += 3 * kurta + 4 * saree <= 600, \"Labor Constraint\"\n",
        "model += 2 * kurta + 5 * saree <= 400, \"Fabric Constraint\"\n"
      ],
      "metadata": {
        "id": "1d8XbIymijiI"
      },
      "execution_count": 6,
      "outputs": []
    },
    {
      "cell_type": "markdown",
      "source": [
        "✅ Step 7: Solve the Model"
      ],
      "metadata": {
        "id": "Qo51C1p4irgI"
      }
    },
    {
      "cell_type": "code",
      "source": [
        "model.solve()\n",
        "\n",
        "print(f\"Status: {pulp.LpStatus[model.status]}\")\n",
        "print(f\"Optimal Kurta units: {kurta.varValue}\")\n",
        "print(f\"Optimal Saree units: {saree.varValue}\")\n",
        "print(f\"Maximum Profit: ₹{pulp.value(model.objective)}\")\n"
      ],
      "metadata": {
        "colab": {
          "base_uri": "https://localhost:8080/"
        },
        "id": "OD86CEBXiq5D",
        "outputId": "4cb798c5-8911-4dcb-d322-baa4dfb20218"
      },
      "execution_count": 7,
      "outputs": [
        {
          "output_type": "stream",
          "name": "stdout",
          "text": [
            "Status: Optimal\n",
            "Optimal Kurta units: 200.0\n",
            "Optimal Saree units: 0.0\n",
            "Maximum Profit: ₹50000.0\n"
          ]
        }
      ]
    },
    {
      "cell_type": "markdown",
      "source": [
        "📊 Final Visualization Cell (Matplotlib)"
      ],
      "metadata": {
        "id": "w7aNVwePjA9B"
      }
    },
    {
      "cell_type": "code",
      "source": [
        "import matplotlib.pyplot as plt\n",
        "\n",
        "# Data\n",
        "products = ['Kurta', 'Saree']\n",
        "labor_used = [2*100, 3*50]     # Labor hours used\n",
        "fabric_used = [3*100, 2*50]    # Fabric meters used\n",
        "profit = [100*100, 150*50]     # Profit from each product\n",
        "\n",
        "# Bar chart setup\n",
        "fig, ax = plt.subplots(figsize=(10, 6))\n",
        "bar_width = 0.25\n",
        "x = range(len(products))\n",
        "\n",
        "# Plot bars\n",
        "ax.bar([i - bar_width for i in x], labor_used, width=bar_width, label='Labor Used (hrs)', color='#4CAF50')\n",
        "ax.bar(x, fabric_used, width=bar_width, label='Fabric Used (m)', color='#2196F3')\n",
        "ax.bar([i + bar_width for i in x], profit, width=bar_width, label='Profit (₹)', color='#FFC107')\n",
        "\n",
        "# Labels and legend\n",
        "ax.set_xticks(x)\n",
        "ax.set_xticklabels(products)\n",
        "ax.set_ylabel('Units')\n",
        "ax.set_title('📈 Resource Usage & Profit Breakdown')\n",
        "ax.legend()\n",
        "plt.grid(True, linestyle='--', alpha=0.5)\n",
        "plt.tight_layout()\n",
        "plt.show()\n"
      ],
      "metadata": {
        "colab": {
          "base_uri": "https://localhost:8080/",
          "height": 696
        },
        "id": "ewmXIjs-jBqr",
        "outputId": "1548bc8d-9b33-41f0-ec23-47b476fd5148"
      },
      "execution_count": 8,
      "outputs": [
        {
          "output_type": "stream",
          "name": "stderr",
          "text": [
            "/tmp/ipython-input-2799798982.py:26: UserWarning: Glyph 128200 (\\N{CHART WITH UPWARDS TREND}) missing from font(s) DejaVu Sans.\n",
            "  plt.tight_layout()\n",
            "/usr/local/lib/python3.11/dist-packages/IPython/core/pylabtools.py:151: UserWarning: Glyph 128200 (\\N{CHART WITH UPWARDS TREND}) missing from font(s) DejaVu Sans.\n",
            "  fig.canvas.print_figure(bytes_io, **kw)\n"
          ]
        },
        {
          "output_type": "display_data",
          "data": {
            "text/plain": [
              "<Figure size 1000x600 with 1 Axes>"
            ],
            "image/png": "[encoded data removed]"
          },
          "metadata": {}
        }
      ]
    },
    {
      "cell_type": "markdown",
      "source": [
        "Based on the optimization model, here is a summary of the task insights and conclusions:\n",
        "\n",
        "Insights:\n",
        "\n",
        "The model determined the optimal production quantities for Kurtas and Sarees to maximize profit given the constraints on labor and fabric.\n",
        "The output shows that to achieve the maximum profit, the textile manufacturer should produce 200 units of Kurta and 0 units of Saree.\n",
        "The maximum profit achievable under the given constraints is ₹50,000.\n",
        "\n",
        "Conclusion:\n",
        "The optimization results suggest that, with the current resource constraints and profit margins, focusing production solely on Kurtas is the most profitable strategy for the Hyderabad-based textile manufacturer. This is likely because, based on the constraints and profit values provided, producing Kurtas utilizes the available resources more efficiently to generate profit compared to Sarees."
      ],
      "metadata": {
        "id": "nMXbiokljhxZ"
      }
    },
    {
      "cell_type": "markdown",
      "source": [
        "📌 Task 4 Outline – CodTech IT Internship: Optimization for Profit-Driven Production\n",
        "\n",
        "🎯 Objective\n",
        "To develop a linear programming model that determines the optimal production quantities of Kurtas and Sarees, maximizing profit while adhering to constraints on labor hours and fabric availability.\n",
        "\n",
        "🧠 Methodology\n",
        "Model Type: Linear Programming using PuLP in Python\n",
        "\n",
        "Decision Variables: Number of Kurtas and Sarees to produce\n",
        "\n",
        "Constraints:\n",
        "\n",
        "Labor hours available\n",
        "\n",
        "Fabric meters available\n",
        "\n",
        "Objective Function: Maximize total profit from Kurta and Saree production\n",
        "\n",
        "\n",
        "📊 Insights\n",
        "The model recommends producing 200 Kurtas and 0 Sarees to achieve maximum profit.\n",
        "\n",
        "Sarees are excluded from the optimal mix due to less efficient resource-to-profit ratio.\n",
        "\n",
        "Total Profit Achieved: ₹50,000\n",
        "\n",
        "Resource Utilization: Labor and fabric are fully consumed without exceeding limits.\n",
        "\n",
        "📈 Results\n",
        "Based on the optimization model, the textile manufacturer should produce 200 units of Kurta and no Sarees to achieve the highest possible profit under the given constraints. Each Kurta contributes ₹250 in profit, resulting in a total profit of ₹50,000. Since Sarees are not included in the optimal production plan, they contribute ₹0 to the overall profit.\n",
        "\n",
        "This outcome highlights that, within the current resource limits and profit margins, Kurtas offer a more efficient and profitable use of labor and fabric compared to Sarees.\n",
        "\n",
        "🌟 Impact & Business Interpretation\n",
        "Strategic Focus: Prioritize Kurta production to maximize profitability under current constraints.\n",
        "\n",
        "Operational Efficiency: Resources are allocated to the most profitable product, avoiding waste.\n",
        "\n",
        "Scalability: The model can be adapted for future changes in pricing, resource availability, or product mix.\n",
        "\n",
        "Decision Support: Empowers the Hyderabad-based textile manufacturer to make data-driven production choices."
      ],
      "metadata": {
        "id": "7j_dRlcyj1Gr"
      }
    }
  ]
}